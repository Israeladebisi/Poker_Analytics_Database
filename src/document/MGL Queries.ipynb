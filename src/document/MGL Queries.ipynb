{
 "cells": [
  {
   "cell_type": "code",
   "execution_count": null,
   "id": "b688d0ed",
   "metadata": {},
   "outputs": [],
   "source": [
    "!pip install \n",
    "!pip install oracledb\n",
    "!pip install line_profiler\n",
    "!pip install memory_profiler"
   ]
  },
  {
   "cell_type": "code",
   "execution_count": null,
   "id": "6508dd5e-e2b4-4562-91c2-67fa27771c31",
   "metadata": {},
   "outputs": [],
   "source": [
    "%load_ext memory_profiler\n",
    "%load_ext line_profiler\n",
    "\n",
    "%reload_ext memory_profiler\n",
    "%reload_ext line_profiler"
   ]
  },
  {
   "cell_type": "code",
   "execution_count": null,
   "id": "175752e9-9e45-41aa-99d5-04436e170379",
   "metadata": {
    "tags": []
   },
   "outputs": [],
   "source": [
    "from pymongo.mongo_client import MongoClient\n",
    "from pymongo.server_api import ServerApi\n",
    "from pprint import pprint"
   ]
  },
  {
   "cell_type": "code",
   "execution_count": null,
   "id": "54b94e24-273d-41bf-b4ba-54ecfe6f28fc",
   "metadata": {},
   "outputs": [],
   "source": [
    "username = 'admin'\n",
    "password = 'password'\n",
    "cluster = 'cluster'\n",
    "uri = f\"mongodb+srv://{username}:{password}@{cluster}/?retryWrites=true&w=majority\"\n",
    "\n",
    "db = None\n",
    "# Create a new client and connect to the server\n",
    "try:\n",
    "    client = MongoClient(uri, server_api=ServerApi('1'))\n",
    "    client.admin.command('ping')\n",
    "    print(\"Successfully connected to MongoDB!\")\n",
    "    db = client[\"PokerDB\"]\n",
    "except Exception as e:\n",
    "    print(f\"Connection failed: {e}\")"
   ]
  },
  {
   "cell_type": "code",
   "execution_count": null,
   "id": "db11f5e6-5a07-4fea-863d-85e12f865b24",
   "metadata": {},
   "outputs": [],
   "source": [
    "def pipeline_queries(pipeline, collection, as_list=True):\n",
    "    \"\"\"\n",
    "    Run an aggregation pipeline on a MongoDB collection.\n",
    "\n",
    "    Args:\n",
    "        collection: MongoDB collection\n",
    "        pipeline (list): Aggregation pipeline\n",
    "        as_list (bool): If True, return results as a list\n",
    "\n",
    "    Returns:\n",
    "        list | cursor: Aggregation results\n",
    "    \"\"\"\n",
    "    cursor = collection.aggregate(pipeline)\n",
    "    return list(cursor) if as_list else cursor"
   ]
  },
  {
   "cell_type": "code",
   "execution_count": null,
   "id": "b079d036",
   "metadata": {},
   "outputs": [],
   "source": [
    "players_collection = db[\"Players\"]\n",
    "tournaments_collection = db[\"Tournaments\"]\n",
    "winners_collection = db[\"Winners\"]\n",
    "hands_collection = db[\"Hands\"]"
   ]
  },
  {
   "cell_type": "markdown",
   "id": "4c9367a2-3fe7-4467-991e-c1e5c807f475",
   "metadata": {},
   "source": [
    "#### How often do players win in a particular position?"
   ]
  },
  {
   "cell_type": "code",
   "execution_count": null,
   "id": "2bdcf46e-f6d5-4ab6-a56a-a6af38da0b78",
   "metadata": {},
   "outputs": [],
   "source": [
    "pipeline = [\n",
    "    {\n",
    "        '$match': {'$expr': {'$gte': [ {'$size': '$players'}, 5 ]}}\n",
    "    }, {\n",
    "        '$unwind': {'path': '$winners'}\n",
    "    }, {\n",
    "        '$group': { '_id': '$winners.Position','count': { '$sum': 1 }}\n",
    "    }, {\n",
    "        '$project': {'count': 1, '_id': 0,'position': '$_id'}\n",
    "    }, {\n",
    "        '$sort': { 'position': 1}\n",
    "    }\n",
    "]\n",
    "%lprun -f pipelineQueries winning_positions = pipelineQueries(pipeline, hands_collection)"
   ]
  },
  {
   "cell_type": "markdown",
   "id": "5231c583",
   "metadata": {},
   "source": [
    "Timer unit: 1e-09 s\n",
    "\n",
    "Total time: 0.15356 s\n",
    "File: /var/folders/g7/zzcmg5nn1pg9xnpy33cm360c0000gn/T/ipykernel_3571/3316437495.py\n",
    "Function: pipelineQueries at line 1\n",
    "\n",
    "Line #      Hits         Time  Per Hit   % Time  Line Contents\n",
    "==============================================================\n",
    "     1                                           def pipelineQueries(pipeline, collection):\n",
    "     2         1  153559000.0    2e+08    100.0      cursor = collection.aggregate(pipeline)\n",
    "     3         1       1000.0   1000.0      0.0      return cursor"
   ]
  },
  {
   "cell_type": "code",
   "execution_count": null,
   "id": "aa93f237-2729-4204-8c88-ab3a53d55dee",
   "metadata": {},
   "outputs": [],
   "source": [
    "for item in winning_positions:\n",
    "    print(item)"
   ]
  },
  {
   "cell_type": "markdown",
   "id": "87c6f97d-d268-43d5-972f-938b4728b164",
   "metadata": {},
   "source": [
    "#### Top ten largest pots and the winning cards"
   ]
  },
  {
   "cell_type": "code",
   "execution_count": null,
   "id": "fc8941b3-0c03-4613-aace-d124f7e250a3",
   "metadata": {},
   "outputs": [],
   "source": [
    "pipeline = [\n",
    "    {\n",
    "        '$unwind': {'path': '$winners'}\n",
    "    }, {\n",
    "        '$sort': { 'winners.Pot': -1 }\n",
    "    }, {\n",
    "        '$limit': 10\n",
    "    }, {\n",
    "        '$project': { '_id': 0, 'Pot': '$winners.Pot', 'card': '$winners.HandRank'}\n",
    "    }\n",
    "]\n",
    "%lprun -f pipelineQueries top_ten_pots = pipelineQueries(pipeline, hands_collection)"
   ]
  },
  {
   "cell_type": "code",
   "execution_count": null,
   "id": "1c020920-0295-4efb-989b-7d818aea1a2c",
   "metadata": {},
   "outputs": [],
   "source": [
    "for item in top_ten_pots:\n",
    "    print(item)"
   ]
  },
  {
   "cell_type": "markdown",
   "id": "c72120de-3b77-41e9-9ca7-535973475689",
   "metadata": {},
   "source": [
    "#### Top 9 Winning Card Combinations"
   ]
  },
  {
   "cell_type": "code",
   "execution_count": null,
   "id": "0d14f477-f309-4245-aea6-8be1f017075f",
   "metadata": {},
   "outputs": [],
   "source": [
    "pipeline = [\n",
    "    {\n",
    "        '$unwind': { 'path': '$winners' }\n",
    "    }, {\n",
    "        '$group': { '_id': '$winners.HandRank', 'total': { '$sum': 1 } }\n",
    "    }, {\n",
    "        '$project': { '_id': 0, 'card_rank': '$_id', 'total': '$total' }\n",
    "    }, {\n",
    "        '$sort': { 'total': -1 }\n",
    "    }\n",
    "]\n",
    "\n",
    "%lprun -f pipelineQueries winning_card_combos = pipelineQueries(pipeline, hands_collection)"
   ]
  },
  {
   "cell_type": "code",
   "execution_count": null,
   "id": "1d3795fa-2cc2-4918-b252-c879b4039877",
   "metadata": {},
   "outputs": [],
   "source": [
    "for item in winning_card_combos:\n",
    "    print(item)"
   ]
  },
  {
   "cell_type": "markdown",
   "id": "b98dbf59-90af-4e86-b915-65398a08c186",
   "metadata": {},
   "source": [
    "#### Find players who played in the 2023-12-25 tournament"
   ]
  },
  {
   "cell_type": "code",
   "execution_count": null,
   "id": "f6ac8620-f9c8-4d86-9f57-4c351d694eb4",
   "metadata": {},
   "outputs": [],
   "source": [
    "pipeline = [\n",
    "    {\n",
    "        '$match': { 'Date': '2023-12-25'}\n",
    "    }, {\n",
    "        '$project': {'Player': '$Players'}\n",
    "    }, {\n",
    "        '$unwind': { 'path': '$Player'}\n",
    "    }, {\n",
    "        '$lookup': {'from': 'Players', 'localField': 'Player', 'foreignField': 'PID', 'as': 'result'\n",
    "        }\n",
    "    }, {\n",
    "        '$unwind': { 'path': '$result'}\n",
    "    }, {\n",
    "        '$project': { 'player': '$result.Name', '_id': 0 }\n",
    "    }\n",
    "]\n",
    "\n",
    "%lprun -f pipelineQueries players_in_tournament = pipelineQueries(pipeline, tournaments_collection)"
   ]
  },
  {
   "cell_type": "code",
   "execution_count": null,
   "id": "2dbed656-dbb7-4430-8e32-ce9a86f85c3a",
   "metadata": {},
   "outputs": [],
   "source": [
    "for player in players_in_tournament:\n",
    "    print(player)"
   ]
  },
  {
   "cell_type": "markdown",
   "id": "aa76a257-2b87-4e7f-b511-efa2294fec3f",
   "metadata": {},
   "source": [
    "#### Who won the most money in 2023?"
   ]
  },
  {
   "cell_type": "code",
   "execution_count": null,
   "id": "1b7b80a9-224d-408c-8d86-a71333e583a8",
   "metadata": {},
   "outputs": [],
   "source": [
    "pipeline = [\n",
    "    {\n",
    "        '$match': { 'Date': { '$regex': '2023'}}\n",
    "    }, {\n",
    "        '$unwind': { 'path': '$Winners' }\n",
    "    }, {\n",
    "        '$sort': { 'Winners.Payout': -1}\n",
    "    }, {\n",
    "        '$limit': 1\n",
    "    }, {\n",
    "        '$project': {'player': '$Winners.Player', '_id': 0 }\n",
    "    }\n",
    "]\n",
    "\n",
    "%lprun -f pipelineQueries most_money_wins_2023 = pipelineQueries(pipeline, tournaments_collection)"
   ]
  },
  {
   "cell_type": "code",
   "execution_count": null,
   "id": "65c7b736-12a1-44f2-87b3-95c4a2544f8c",
   "metadata": {},
   "outputs": [],
   "source": [
    "for item in most_money_wins_2023:\n",
    "    print(item['player'])"
   ]
  },
  {
   "cell_type": "markdown",
   "id": "c14ecf1d-89b5-4fcf-b9e8-71d94808b14e",
   "metadata": {
    "tags": []
   },
   "source": [
    "#### What is the average number of hands in a game"
   ]
  },
  {
   "cell_type": "code",
   "execution_count": null,
   "id": "910a5092-8656-4049-abf5-2fe5bf58758b",
   "metadata": {},
   "outputs": [],
   "source": [
    "pipeline = [\n",
    "    {\n",
    "        '$project': {\n",
    "            '_id': 0,\n",
    "            'games': '$Games.game',\n",
    "            'total_hands': { '$size': '$Games.hands'}\n",
    "        }\n",
    "    }, {\n",
    "        '$group': {\n",
    "            '_id': 0,\n",
    "            'total_games': { '$sum': 1 },\n",
    "            'total_hands': { '$sum': '$total_hands'}\n",
    "        }\n",
    "    }, {\n",
    "        '$project': {\n",
    "            '_id': 0,\n",
    "            'average_hands': {'$divide': [ '$total_hands', '$total_games']\n",
    "            }\n",
    "        }\n",
    "    }\n",
    "]\n",
    "\n",
    "%lprun -f pipelineQueries game_hands_avg = pipelineQueries(pipeline, rounds_collection)"
   ]
  },
  {
   "cell_type": "code",
   "execution_count": null,
   "id": "e213c13a-1e79-4e05-aa95-e17b45e945be",
   "metadata": {},
   "outputs": [],
   "source": [
    "for item in game_hands_avg:\n",
    "    print(f\"Average number of hands per game: {str(item['average_hands'])}\")"
   ]
  },
  {
   "cell_type": "markdown",
   "id": "abec7bb6-0502-4a44-89dd-33a6a0093080",
   "metadata": {
    "jp-MarkdownHeadingCollapsed": true,
    "tags": []
   },
   "source": [
    "#### Countries with the best players (or players who have won more games)"
   ]
  },
  {
   "cell_type": "code",
   "execution_count": null,
   "id": "eabf25ae-3c09-4b52-9352-79be4e23401d",
   "metadata": {},
   "outputs": [],
   "source": [
    "pipeline = [\n",
    "    {\n",
    "        '$unwind': { 'path': '$Winners'}\n",
    "    }, {\n",
    "        '$group': {  '_id': '$Winners.Player_id',  'wins': {'$sum': 1 }}\n",
    "    }, {\n",
    "        '$sort': { 'wins': -1}\n",
    "    }, {\n",
    "        '$limit': 3\n",
    "    }, {\n",
    "        '$lookup': {\n",
    "            'from': 'Players',\n",
    "            'localField': '_id',\n",
    "            'foreignField': 'PID',\n",
    "            'as': 'result'\n",
    "        }\n",
    "    }, {\n",
    "        '$project': {\n",
    "            'Player': '$result.Name',\n",
    "            'Country': '$result.Country',\n",
    "            'Number of games won': '$wins'\n",
    "        }\n",
    "    }\n",
    "]\n",
    "\n",
    "%lprun -f pipelineQueries best_player_countries = pipelineQueries(pipeline, tournaments_collection)"
   ]
  },
  {
   "cell_type": "markdown",
   "id": "1743905e",
   "metadata": {},
   "source": [
    "Timer unit: 1e-09 s\n",
    "\n",
    "Total time: 0.113387 s\n",
    "File: /var/folders/g7/zzcmg5nn1pg9xnpy33cm360c0000gn/T/ipykernel_3571/3316437495.py\n",
    "Function: pipelineQueries at line 1\n",
    "\n",
    "Line #      Hits         Time  Per Hit   % Time  Line Contents\n",
    "==============================================================\n",
    "     1                                           def pipelineQueries(pipeline, collection):\n",
    "     2         1  113387000.0    1e+08    100.0      cursor = collection.aggregate(pipeline)\n",
    "     3         1          0.0      0.0      0.0      return cursor"
   ]
  },
  {
   "cell_type": "code",
   "execution_count": null,
   "id": "7d88b0b0-a07e-4bd5-b544-717dfc2a8243",
   "metadata": {},
   "outputs": [],
   "source": [
    "for item in best_player_countries:\n",
    "    print(item['Country'])"
   ]
  },
  {
   "cell_type": "markdown",
   "id": "0b39cc65-1fa2-4bb6-bb81-406a2087bbe2",
   "metadata": {
    "jp-MarkdownHeadingCollapsed": true,
    "tags": []
   },
   "source": [
    "#### Most common in the different stages of the hand after pre-flop"
   ]
  },
  {
   "cell_type": "code",
   "execution_count": null,
   "id": "feff4ca0-18ac-4ca5-84ac-c90ca70403f8",
   "metadata": {},
   "outputs": [],
   "source": [
    "pipeline =[\n",
    "    {\n",
    "        '$unwind': { 'path': '$cards' }\n",
    "    }, {\n",
    "        '$group': {\n",
    "            '_id': {\n",
    "                'Stage': '$cards.Stage',\n",
    "                'HandRank': '$cards.HandRank'\n",
    "            },\n",
    "            'count': { '$sum': 1 }\n",
    "        }\n",
    "    }, {\n",
    "        '$sort': { 'count': -1}\n",
    "    }, {\n",
    "        '$group': {\n",
    "            '_id': '$_id.Stage',\n",
    "            'handrank': {'$first': '$_id.HandRank'},\n",
    "            'count': {'$first': '$count'}\n",
    "        }\n",
    "    }, {\n",
    "        '$project': {\n",
    "            '_id': 0,\n",
    "            'Stage': '$_id',\n",
    "            'handrank': '$handrank',\n",
    "            'count': '$count'\n",
    "        }\n",
    "    }\n",
    "]\n",
    "\n",
    "%lprun -f pipelineQueries common_card_in_stage = pipelineQueries(pipeline, hands_collection)"
   ]
  },
  {
   "cell_type": "markdown",
   "id": "9a1fd02a",
   "metadata": {},
   "source": [
    "Timer unit: 1e-09 s\n",
    "\n",
    "Total time: 0.236229 s\n",
    "File: /var/folders/g7/zzcmg5nn1pg9xnpy33cm360c0000gn/T/ipykernel_3571/3316437495.py\n",
    "Function: pipelineQueries at line 1\n",
    "\n",
    "Line #      Hits         Time  Per Hit   % Time  Line Contents\n",
    "==============================================================\n",
    "     1                                           def pipelineQueries(pipeline, collection):\n",
    "     2         1  236228000.0    2e+08    100.0      cursor = collection.aggregate(pipeline)\n",
    "     3         1       1000.0   1000.0      0.0      return cursor"
   ]
  },
  {
   "cell_type": "code",
   "execution_count": null,
   "id": "b22d118a-594e-427b-a832-a11e60a53541",
   "metadata": {},
   "outputs": [],
   "source": [
    "for item in common_card_in_stage:\n",
    "    print(f\"{item['Stage']}: {item['handrank']} appears about {str(item['count']) times}\")"
   ]
  },
  {
   "cell_type": "markdown",
   "id": "59f84080",
   "metadata": {},
   "source": [
    "{'Stage': 'FLOP', 'handrank': 'HC', 'count': 30632}\n",
    "{'Stage': 'TURN', 'handrank': 'ONEPAIR', 'count': 24472}\n",
    "{'Stage': 'RIVER', 'handrank': 'ONEPAIR', 'count': 18489}"
   ]
  },
  {
   "cell_type": "markdown",
   "id": "80b691e9-526a-4be4-87d8-7d67023750dd",
   "metadata": {
    "jp-MarkdownHeadingCollapsed": true,
    "tags": []
   },
   "source": [
    "#### Players with the most aggressive style of betting (largets bets)"
   ]
  },
  {
   "cell_type": "code",
   "execution_count": null,
   "id": "4114c755-411f-465e-83b4-e4483c5f88b4",
   "metadata": {},
   "outputs": [],
   "source": [
    "pipeline = [\n",
    "    {\n",
    "        '$project': {'cards': 1}\n",
    "    }, {\n",
    "        '$unwind': {'path': '$cards'}\n",
    "    }, {\n",
    "        '$sort': {'cards.Chips': -1}\n",
    "    }, {\n",
    "        '$limit': 10\n",
    "    }, {\n",
    "        '$project': {'_id': 0,'player': '$cards.Player', 'bet_placed': '$cards.Chips'}\n",
    "    }\n",
    "]\n",
    "\n",
    "\n",
    "%lprun -f pipelineQueries aggressive_bets = pipelineQueries(pipeline, hands_collection)"
   ]
  },
  {
   "cell_type": "markdown",
   "id": "3a53e819",
   "metadata": {},
   "source": [
    "Timer unit: 1e-09 s\n",
    "\n",
    "Total time: 0.156331 s\n",
    "File: /var/folders/g7/zzcmg5nn1pg9xnpy33cm360c0000gn/T/ipykernel_3571/3316437495.py\n",
    "Function: pipelineQueries at line 1\n",
    "\n",
    "Line #      Hits         Time  Per Hit   % Time  Line Contents\n",
    "==============================================================\n",
    "     1                                           def pipelineQueries(pipeline, collection):\n",
    "     2         1  156331000.0    2e+08    100.0      cursor = collection.aggregate(pipeline)\n",
    "     3         1          0.0      0.0      0.0      return cursor"
   ]
  },
  {
   "cell_type": "code",
   "execution_count": null,
   "id": "74a3c3ce-22b2-4af7-91da-17b9b762f9fa",
   "metadata": {},
   "outputs": [],
   "source": [
    "import dataframes as pd\n",
    "\n",
    "results = {\n",
    "    'Player': [x['player'] for x in aggressive_bets],\n",
    "    'Bet': [x['bet_placed'] for x in aggressive_bets] \n",
    "}\n",
    "\n",
    "df = pd.DataFrame(result)\n",
    "df1 = df.style.set_properties(**{'text-align': 'center'}).set_caption('<h2 style=\"font-weight: bold;\">Largest Bets</h2>')\n",
    "display(df1)"
   ]
  },
  {
   "cell_type": "markdown",
   "id": "5bc5e6c8-f5d7-4666-b4fe-8cf92c812be3",
   "metadata": {
    "jp-MarkdownHeadingCollapsed": true,
    "tags": []
   },
   "source": [
    "#### Most common bet on two aces preflop"
   ]
  },
  {
   "cell_type": "code",
   "execution_count": null,
   "id": "15a02163-7514-4165-98a3-35f0ef55d288",
   "metadata": {},
   "outputs": [],
   "source": [
    "pipeline = [\n",
    "    {\n",
    "        '$unwind': {'path': '$hole'}\n",
    "    }, {\n",
    "        '$match': { '$expr': { '$setIsSubset': [ '$hole.Cards', ['ad', 'ah', 'ac', 'as']] } }\n",
    "    }, {\n",
    "        '$project': {'hole': 1}\n",
    "    }, {\n",
    "        '$group': {'_id': '$hole.Action', 'count': {'$sum': 1} }\n",
    "    }, {\n",
    "        '$sort': {'count': -1}\n",
    "    }, {\n",
    "        '$limit': 1\n",
    "    }\n",
    "]\n",
    "\n",
    "%lprun -f pipelineQueries common_bet_aces_preflop = pipelineQueries(pipeline, hands_collection)"
   ]
  },
  {
   "cell_type": "code",
   "execution_count": null,
   "id": "b2dad3b7-bcd7-4299-8c98-4668ee620fc6",
   "metadata": {},
   "outputs": [],
   "source": [
    "for item in common_bet_aces_preflop:\n",
    "    print(f\"{item['_id']} is the most common bet: Made {str(item['count'])} times\")"
   ]
  },
  {
   "cell_type": "markdown",
   "id": "f93f64c3-e048-4564-a00c-bd2195144951",
   "metadata": {
    "tags": []
   },
   "source": [
    "#### Identify the combinations that win the most (per player)"
   ]
  },
  {
   "cell_type": "code",
   "execution_count": null,
   "id": "300e9af8-d473-42cc-b71b-a7ecdc3f3251",
   "metadata": {},
   "outputs": [],
   "source": [
    "pipeline = [\n",
    "    {\n",
    "        '$unwind': { 'path': '$winners' }\n",
    "    }, {\n",
    "        '$group': {\n",
    "            '_id': {\n",
    "                'player': '$winners.Player',\n",
    "                'card_combo': '$winners.HandRank'\n",
    "            },\n",
    "            'count': { '$sum': 1 }\n",
    "        }\n",
    "    }, {\n",
    "        '$sort': { 'count': -1 }\n",
    "    }, {\n",
    "        '$group': {\n",
    "            '_id': '$_id.player',\n",
    "            'card': { '$first': '$_id.card_combo' },\n",
    "            'max': { '$first': '$count' }\n",
    "        }\n",
    "    }, {\n",
    "        '$project': {\n",
    "            '_id': 0,\n",
    "            'player': '$_id',\n",
    "            'rank': '$card',\n",
    "            'max': '$max'\n",
    "        }\n",
    "    }\n",
    "]\n",
    "%lprun -f pipelineQueries most_winning_ranks_by_player = pipelineQueries(pipeline, hands_collection)"
   ]
  },
  {
   "cell_type": "code",
   "execution_count": null,
   "id": "9c852ec7-9333-4b28-837d-f1bab29edeae",
   "metadata": {},
   "outputs": [],
   "source": [
    "result = {\n",
    "    'Player': [x['player'] for x in most_winning_ranks_by_player],\n",
    "    'Rank': [x['rank'] for x in most_winning_ranks_by_player],\n",
    "    'Number of times won': [x['max'] for x in most_winning_ranks_by_player]\n",
    "}\n",
    "\n",
    "df = pd.DataFrame(result)\n",
    "df1 = df.style.set_properties(**{'text-align': 'center'}).set_caption('<h2 style=\"font-weight: bold;\">Player Most Winning Card</h2>')\n",
    "display(df1)"
   ]
  },
  {
   "cell_type": "markdown",
   "id": "daa93096-a26d-4553-b650-0f69b5a44090",
   "metadata": {
    "tags": []
   },
   "source": [
    "#### Players who won the Longest Games"
   ]
  },
  {
   "cell_type": "code",
   "execution_count": null,
   "id": "dc74c4c9-a935-4dcf-884a-c5bb8f0efee8",
   "metadata": {},
   "outputs": [],
   "source": [
    "pipeline = [\n",
    "    {\n",
    "        '$unwind': { 'path': '$Games' }\n",
    "    }, {\n",
    "        '$addFields': {\n",
    "            'Games.numHands': {\n",
    "                '$size': '$Games.hands'\n",
    "            }\n",
    "        }\n",
    "    }, {\n",
    "        '$sort': { 'Games.numHands': -1 }\n",
    "    }, {\n",
    "        '$limit': 15\n",
    "    }, {\n",
    "        '$project': {\n",
    "            '_id': 0,\n",
    "            'numHands': '$Games.numHands',\n",
    "            'last_hand': {\n",
    "                '$arrayElemAt': [ '$Games.hands', -1 ]\n",
    "            }\n",
    "        }\n",
    "    }, {\n",
    "        '$lookup': {\n",
    "            'from': 'Hands',\n",
    "            'localField': 'last_hand.hand_id',\n",
    "            'foreignField': 'hand_id',\n",
    "            'as': 'details'\n",
    "        }\n",
    "    }, {\n",
    "        '$project': {\n",
    "            'winners': '$details.winners',\n",
    "            'hands': '$numHands'\n",
    "        }\n",
    "    }, {\n",
    "        '$unwind': { 'path': '$winners' }\n",
    "    }, {\n",
    "        '$project': {\n",
    "            'player': {\n",
    "                '$arrayElemAt': [\n",
    "                    '$winners', -1\n",
    "                ]\n",
    "            },\n",
    "            'hands': '$hands'\n",
    "        }\n",
    "    }, {\n",
    "        '$project': {\n",
    "            'player': '$player.Player',\n",
    "            'hands': '$hands'\n",
    "        }\n",
    "    }\n",
    "]\n",
    "\n",
    "%lprun -f pipelineQueries longest_game_winners = pipelineQueries(pipeline, rounds_collection)"
   ]
  },
  {
   "cell_type": "code",
   "execution_count": null,
   "id": "a6ac01b4-d52b-4661-9e70-dc0e53cc0f79",
   "metadata": {},
   "outputs": [],
   "source": [
    "result = {\n",
    "    'Player': [item['player'] for item in longest_game_winners if 'player' in item],\n",
    "    'Hands in Game': [item['hands'] for item in longest_game_winners if 'player' in item]\n",
    "}\n",
    "\n",
    "df = pd.DataFrame(result)\n",
    "df1 = df.style.set_properties(**{'text-align': 'center'}).set_caption('<h2 style=\"font-weight: bold;\">Top 10 Longest Game winners</h2>')\n",
    "display(df1)"
   ]
  },
  {
   "cell_type": "code",
   "execution_count": null,
   "id": "9f6140c9-b388-42c7-aeb8-9f37dc8cefd2",
   "metadata": {},
   "outputs": [],
   "source": [
    "#close connection\n",
    "client.close()"
   ]
  }
 ],
 "metadata": {
  "kernelspec": {
   "display_name": "Python 3 (ipykernel)",
   "language": "python",
   "name": "python3"
  },
  "language_info": {
   "codemirror_mode": {
    "name": "ipython",
    "version": 3
   },
   "file_extension": ".py",
   "mimetype": "text/x-python",
   "name": "python",
   "nbconvert_exporter": "python",
   "pygments_lexer": "ipython3",
   "version": "3.11.5"
  }
 },
 "nbformat": 4,
 "nbformat_minor": 5
}
