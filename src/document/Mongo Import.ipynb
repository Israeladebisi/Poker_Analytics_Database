{
 "cells": [
  {
   "cell_type": "markdown",
   "id": "ea249a4b",
   "metadata": {},
   "source": [
    "The ORACLE DB MUST be completely done before this section:\n",
    "\n",
    "* Update the **username**, **password** and **cluster** information to your own MongoDB Atlas Cluster\n",
    "* Create the tournaments, rounds, hands and players collections in your cluster before running queries below. \n",
    "\n",
    "This helps to avoid hiccups along the way.\n"
   ]
  },
  {
   "cell_type": "code",
   "execution_count": null,
   "id": "656b3e77-c547-4eb1-b7ea-fa5706297848",
   "metadata": {
    "tags": []
   },
   "outputs": [],
   "source": [
    "!pip install \n",
    "!pip install oracledb\n",
    "!pip install line_profiler\n",
    "!pip install memory_profiler"
   ]
  },
  {
   "cell_type": "code",
   "execution_count": null,
   "id": "e1692d13",
   "metadata": {},
   "outputs": [],
   "source": [
    "%load_ext memory_profiler\n",
    "%load_ext line_profiler\n",
    "\n",
    "%reload_ext memory_profiler\n",
    "%reload_ext line_profiler"
   ]
  },
  {
   "cell_type": "code",
   "execution_count": null,
   "id": "6a965d40-9926-42a9-9cb4-ad5c090f5da6",
   "metadata": {},
   "outputs": [],
   "source": [
    "from pymongo.mongo_client import MongoClient\n",
    "from pymongo.server_api import ServerApi"
   ]
  },
  {
   "cell_type": "code",
   "execution_count": null,
   "id": "819d910b-b7d8-4e86-beec-3768d696150c",
   "metadata": {},
   "outputs": [],
   "source": [
    "username = 'admin'\n",
    "password = 'password'\n",
    "cluster = 'cluster'\n",
    "uri = f\"mongodb+srv://{username}:{password}@{cluster}/?retryWrites=true&w=majority\"\n",
    "\n",
    "# Create a new client and connect to the server\n",
    "client = MongoClient(uri, server_api=ServerApi('1'))\n",
    "\n",
    "# Send a ping to confirm a successful connection\n",
    "try:\n",
    "    client.admin.command('ping')\n",
    "    print(\"Successfully connected to MongoDB!\")\n",
    "except Exception as e:\n",
    "    print(f\"Connection failed: {e}\")"
   ]
  },
  {
   "cell_type": "code",
   "execution_count": null,
   "id": "410f2633-d6f2-4d44-9cee-2ad877b7f122",
   "metadata": {},
   "outputs": [],
   "source": [
    "#Create analytics database and collections\n",
    "\n",
    "db = client['PokerTournamentAnalytics']\n",
    "players_collection = db['Players']\n",
    "tournaments_collection = db['Tournaments']\n",
    "rounds_collection = db['Rounds']\n",
    "hands_collection = db['Hands']"
   ]
  },
  {
   "cell_type": "markdown",
   "id": "066ada9d-42b5-4294-bd7b-cbdbf55e2f5f",
   "metadata": {},
   "source": [
    "##### Connect to the oracle database"
   ]
  },
  {
   "cell_type": "code",
   "execution_count": null,
   "id": "e6240b86-e5ea-4164-97ab-d54d524d24a2",
   "metadata": {
    "tags": []
   },
   "outputs": [],
   "source": [
    "import oracledb\n",
    "host = '127.0.0.1'\n",
    "port = '1521'\n",
    "sname = 'orclpdb1'\n",
    "\n",
    "username = 'admin'\n",
    "password = 'password'\n",
    "\n",
    "dsn = f\"(DESCRIPTION=(ADDRESS=(PROTOCOL=TCP)(HOST={host})(PORT={port}))(CONNECT_DATA=(SERVICE_NAME={sname})))\"\n",
    "\n",
    "# Establish the connection\n",
    "try:\n",
    "    connection = oracledb.connect(user=username, password=password, dsn=dsn)\n",
    "    cursor = connection.cursor()\n",
    "    print(\"Connection successful!\")\n",
    "except oracledb.DatabaseError as e:\n",
    "    print(\"There was an error connecting to the database:\", e)"
   ]
  },
  {
   "cell_type": "markdown",
   "id": "340da346-8798-4508-bbeb-06faf6fbc307",
   "metadata": {},
   "source": [
    "### Players Collection"
   ]
  },
  {
   "cell_type": "code",
   "execution_count": null,
   "id": "190867c5-0de9-4bcd-b384-e550b4cfc1d6",
   "metadata": {},
   "outputs": [],
   "source": [
    "#PLAYERS COLLECTION\n",
    "query = '''\n",
    "SELECT * FROM PLAYERS\n",
    "ORDER BY PID\n",
    "'''\n",
    "connection.execute(query)\n",
    "players_data = connection.fetchall()\n",
    "\n",
    "#***************************\n",
    "query = '''\n",
    "SELECT distinct p.PID, tw.tid, t.tname, tw.payout,ROW_NUMBER() OVER (PARTITION BY tw.tid ORDER BY tw.payout DESC) AS Pos\n",
    "FROM players p\n",
    "INNER JOIN TOURNAMENTSWINNERS tw on p.pid = tw.pid\n",
    "INNER JOIN tournaments t on t.tid = tw.tid\n",
    "ORDER BY p.PID\n",
    "'''\n",
    "connection.execute(query)\n",
    "playerswin_data = connection.fetchall()\n",
    "\n",
    "#***************************\n",
    "query = '''\n",
    "SELECT DISTINCT p.pid, t.tname\n",
    "FROM players p\n",
    "INNER JOIN handplayers hp on hp.pid = p.pid\n",
    "INNER JOIN hands h on hp.handid = h.handid\n",
    "INNER JOIN games g on g.gameid = h.gameid\n",
    "INNER JOIN rounds r on r.roundid = g.roundid\n",
    "INNER JOIN tournaments t on t.tid = r.tid\n",
    "ORDER BY PID\n",
    "'''\n",
    "connection.execute(query)\n",
    "playersPlayedIn_data = connection.fetchall()\n",
    "\n",
    "#***************************"
   ]
  },
  {
   "cell_type": "code",
   "execution_count": null,
   "id": "61c7c362-bed4-41a7-b148-dfda192e7ad3",
   "metadata": {},
   "outputs": [],
   "source": [
    "#PUSH PLAYERS COLLECTION TO MONGO DB\n",
    "def addPlayersData():\n",
    "    Players = []\n",
    "\n",
    "    for p in players_data:\n",
    "        pid, pname, pAge, pcountry = p\n",
    "\n",
    "        wins = [ {\"TName\": p[2],\"Payout\": p[3],\"Position\":p[4]} for p in playerswin_data if p[0] == pid]\n",
    "        plays = [ pi[1] for pi in playersPlayedIn_data if pi[0] == pid]\n",
    "\n",
    "        players_info = {\n",
    "            'PID': pid,\n",
    "            'Name': pname,\n",
    "            'Age': pAge,\n",
    "            'Country': pcountry,\n",
    "            'Wins': wins,\n",
    "            'PlayedIn': plays\n",
    "        }\n",
    "        Players.append(players_info)\n",
    "    i = players_collection.insert_many(Players)"
   ]
  },
  {
   "cell_type": "code",
   "execution_count": null,
   "id": "9970a44b",
   "metadata": {},
   "outputs": [],
   "source": [
    "addPlayersData()\n",
    "players_collection..count_documents({})"
   ]
  },
  {
   "cell_type": "markdown",
   "id": "acdbf40b-c763-4a58-8f24-336e46918897",
   "metadata": {
    "tags": []
   },
   "source": [
    "### Tournaments Collection"
   ]
  },
  {
   "cell_type": "code",
   "execution_count": null,
   "id": "d3cf44dc-a38f-4ddb-84e3-73978603d9fb",
   "metadata": {},
   "outputs": [],
   "source": [
    "#TOURNAMENTS COLLECTION\n",
    "q1 = '''\n",
    "SELECT * FROM tournaments\n",
    "'''\n",
    "connection.execute(q1)\n",
    "\n",
    "tournament_data = connection.fetchall()\n",
    "\n",
    "#*****************************\n",
    "q2 = '''\n",
    "SELECT DISTINCT t.tid, hp.pid\n",
    "FROM tournaments t\n",
    "INNER JOIN rounds r on t.tid = r.tid\n",
    "INNER JOIN games g on g.roundid = r.roundid\n",
    "INNER JOIN hands h on h.gameid = g.gameid\n",
    "INNER JOIN handplayers hp on hp.handid = h.handid\n",
    "ORDER BY t.TID, hp.PID\n",
    "'''\n",
    "connection.execute(q2)\n",
    "\n",
    "tournament_players_data = connection.fetchall()\n",
    "\n",
    "#***************************\n",
    "q3 = '''\n",
    "--TOURNAMENT WINNERS -add to a list or set\n",
    "SELECT ROW_NUMBER() OVER (PARTITION BY tid ORDER BY payout DESC) AS TPosition, tw.TID, pname, tw.PID,tw.payout\n",
    "FROM TOURNAMENTSWINNERS tw\n",
    "INNER JOIN players p on p.pid = tw.pid\n",
    "ORDER BY tid, payout DESC\n",
    "'''\n",
    "connection.execute(q3)\n",
    "\n",
    "tournament_winners_data = connection.fetchall()"
   ]
  },
  {
   "cell_type": "code",
   "execution_count": null,
   "id": "a09fc053-f0bc-4896-a88b-5353eb6a5a32",
   "metadata": {},
   "outputs": [],
   "source": [
    "def createTournamentsCollection():\n",
    "    Tournaments = []\n",
    "\n",
    "    for t in tournament_data:\n",
    "        tid, name, location, date, buyin = t\n",
    "        type(date)\n",
    "\n",
    "        # Convert the datetime object to a string in \"YYYY-MM-DD\" format\n",
    "        fm_date = date.strftime('%Y-%m-%d')\n",
    "\n",
    "        players = [ p[1] for p in tPlayers_data if p[0] == tid]\n",
    "        winners = [{\"Position\":w[0], \"Player\":w[2], \"Player_id\":w[3], \"Payout\":w[4]} for w in tWinners_data if w[1] == tid]\n",
    "\n",
    "        tournament_info = {\n",
    "            'TID': tid,\n",
    "            'Name': name,\n",
    "            'Date': fm_date,\n",
    "            'Location': location,\n",
    "            'Players': players,\n",
    "            'Winners': winners\n",
    "        }\n",
    "        Tournaments.append(tournament_info)\n",
    "\n",
    "    i = tournaments_collection.insert_many(Tournaments)"
   ]
  },
  {
   "cell_type": "code",
   "execution_count": null,
   "id": "24fb4cd8-d788-43dd-9d53-b42322b2b469",
   "metadata": {
    "tags": []
   },
   "outputs": [],
   "source": [
    "addTournamentsData()\n",
    "tournaments_collection.count_documents({})"
   ]
  },
  {
   "cell_type": "markdown",
   "id": "15ccf350-5296-4628-8cf9-755a79981c2e",
   "metadata": {},
   "source": [
    "### Rounds Collection"
   ]
  },
  {
   "cell_type": "code",
   "execution_count": null,
   "id": "1e42de98-bde8-4a6f-a21d-85115c42b95d",
   "metadata": {},
   "outputs": [],
   "source": [
    "query = '''\n",
    "SELECT * FROM rounds\n",
    "'''\n",
    "connection.execute(query)\n",
    "rounds_data = connection.fetchall()\n",
    "\n",
    "#***************************\n",
    "\n",
    "query = '''\n",
    "SELECT gameid, gamenum, roundid as game_roundid FROM games\n",
    "'''\n",
    "connection.execute(query)\n",
    "games_data = connection.fetchall()\n",
    "\n",
    "#***************************\n",
    "\n",
    "query = '''\n",
    "SELECT handid, gameid FROM hands\n",
    "'''\n",
    "connection.execute(query)\n",
    "hands_data = connection.fetchall()"
   ]
  },
  {
   "cell_type": "code",
   "execution_count": null,
   "id": "d9dbce12-4e5a-4f9e-a163-079a8151ec65",
   "metadata": {},
   "outputs": [],
   "source": [
    "def addRoundsData():\n",
    "    rounds = []\n",
    "\n",
    "    for round in rounds_data:\n",
    "        roundid, tid, roundnum = round\n",
    "\n",
    "        games = []\n",
    "        for game in games_data:\n",
    "            gameid, gamenum, game_roundid = game\n",
    "\n",
    "            if game_roundid == roundid:\n",
    "                game =  {\n",
    "                    'game_id': gameid,\n",
    "                    'game number': gamenum,\n",
    "                    'hands': [ {\"hand_id\": h[0]} for h in hands_data if h[1] == gameid ]\n",
    "                }\n",
    "                games.append(game)\n",
    "\n",
    "        round_info = {\n",
    "            'Tournament_id': tid,\n",
    "            'Round_id': roundid,\n",
    "            'Round Number': roundnum,\n",
    "            'Games': games\n",
    "        }\n",
    "        rounds.append(round_info)\n",
    "\n",
    "        games = []\n",
    "    n = rounds_collection.insert_many(rounds)"
   ]
  },
  {
   "cell_type": "code",
   "execution_count": null,
   "id": "f31f988f-5630-436e-ba34-278e0f4aed95",
   "metadata": {},
   "outputs": [],
   "source": [
    "data = fetch_rounds_games_hands(connection)\n",
    "rounds_data = data[\"rounds\"]\n",
    "games_data  = data[\"games\"]\n",
    "hands_data  = data[\"hands\"]\n",
    "count = add_rounds_data(rounds_data, games_data, hands_data, rounds_collection)\n",
    "print(f\"Inserted {count} rounds into MongoDB.\")"
   ]
  },
  {
   "cell_type": "code",
   "execution_count": null,
   "id": "c8c6e976",
   "metadata": {},
   "outputs": [],
   "source": [
    "def addRoundsData():\n",
    "    rounds = []\n",
    "\n",
    "    for round in rounds_data:\n",
    "        roundid, tid, roundnum = round\n",
    "\n",
    "        games = []\n",
    "        for game in games_data:\n",
    "            gameid, gamenum, game_roundid = game\n",
    "\n",
    "            if game_roundid == roundid:\n",
    "                game =  {\n",
    "                    'game_id': gameid,\n",
    "                    'game number': gamenum,\n",
    "                    'hands': [ {\"hand_id\": h[0]} for h in hands_data if h[1] == gameid ]\n",
    "                }\n",
    "                games.append(game)\n",
    "\n",
    "        round_info = {\n",
    "            'Tournament_id': tid,\n",
    "            'Round_id': roundid,\n",
    "            'Round Number': roundnum,\n",
    "            'Games': games\n",
    "        }\n",
    "        rounds.append(round_info)\n",
    "\n",
    "        games = []\n",
    "    n = rounds_collection.insert_many(rounds)"
   ]
  },
  {
   "cell_type": "code",
   "execution_count": null,
   "id": "bddca1c0",
   "metadata": {},
   "outputs": [],
   "source": [
    "addRoundsData()\n",
    "rounds_collection.count_documents({})"
   ]
  },
  {
   "cell_type": "markdown",
   "id": "899147f2-56e4-4156-a0f3-b6cd8b4c3db0",
   "metadata": {},
   "source": [
    "### Hands Collection"
   ]
  },
  {
   "cell_type": "code",
   "execution_count": null,
   "id": "24564c06-21f4-4b73-a93c-2de26a05b3bb",
   "metadata": {},
   "outputs": [],
   "source": [
    "#HANDS COLLECTION\n",
    "q1 = '''\n",
    "SELECT handid, handnum, dealer, fc1, fc2, fc3, tc1, rc1 from hands hs\n",
    "INNER JOIN board b on b.boardid = hs.boardid\n",
    "'''\n",
    "connection.execute(q1)\n",
    "hands_board_data = connection.fetchall()\n",
    "\n",
    "#*****************************\n",
    "\n",
    "q2 = '''\n",
    "SELECT hs.handid, p.pid, p.pname, card1, card2, act, chipamt, pos \n",
    "FROM hole h\n",
    "INNER JOIN handplayers hp on hp.hpid = h.hpid\n",
    "INNER JOIN hands hs on hs.handid = hp.handid\n",
    "INNER JOIN players p on p.pid = hp.pid\n",
    "'''\n",
    "\n",
    "connection.execute(q2)\n",
    "hole_data = connection.fetchall()\n",
    "#*****************************\n",
    "\n",
    "q3 = '''\n",
    "SELECT handid, p.pid, p.pname, stage, handrank, act, chipamt\n",
    "FROM cards c\n",
    "INNER JOIN handplayers hp on hp.hpid = connection.hpid\n",
    "INNER JOIN players p on p.pid = hp.pid\n",
    "'''\n",
    "\n",
    "connection.execute(q3)\n",
    "cards_data = connection.fetchall()\n",
    "#*****************************\n",
    "\n",
    "q4 = '''\n",
    "SELECT h.handid, p.pid, pname, pot, connection.handrank, pos\n",
    "FROM handwinners hw\n",
    "INNER JOIN handplayers hp on hp.hpid = hw.hpid\n",
    "INNER JOIN hands h on h.handid = hp.handid\n",
    "INNER JOIN cards c on connection.hpid = hw.hpid\n",
    "INNER JOIN players p on p.pid = hp.pid\n",
    "WHERE STAGE = 'RIVER'\n",
    "'''\n",
    "\n",
    "connection.execute(q4)\n",
    "handwinners_data = connection.fetchall()\n",
    "#*****************************\n",
    "\n",
    "q5 = '''\n",
    "SELECT handid, p.pid, p.pname, pos as position \n",
    "FROM handplayers hp\n",
    "INNER JOIN players p on p.pid = hp.pid\n",
    "'''\n",
    "connection.execute(q5)\n",
    "handplayers_data = connection.fetchall()\n",
    "#***************************\n",
    "\n",
    "query = '''\n",
    "SELECT h.handid, p.pname, p.pid\n",
    "FROM hands h\n",
    "INNER JOIN handplayers hp on hp.handid = h.handid\n",
    "INNER JOIN continuing c on connection.hpid = hp.hpid\n",
    "inner JOIN players p on p.pid = hp.pid\n",
    "'''\n",
    "\n",
    "connection.execute(query)\n",
    "continuing_players_data = connection.fetchall()\n",
    "\n",
    "#***************************\n",
    "\n",
    "query = '''\n",
    "SELECT h.handid, h.handnum, p.pname, p.pid\n",
    "FROM hands h\n",
    "INNER JOIN handplayers hp on hp.handid = h.handid\n",
    "INNER JOIN eliminated e on e.hpid = hp.hpid\n",
    "inner JOIN players p on p.pid = hp.pid\n",
    "'''\n",
    "\n",
    "connection.execute(query)\n",
    "eliminated_players_data = connection.fetchall()"
   ]
  },
  {
   "cell_type": "code",
   "execution_count": null,
   "id": "857fdb72-3f83-40ae-9431-15e7ea1bd46d",
   "metadata": {},
   "outputs": [],
   "source": [
    "def addHandsData():\n",
    "    Hands = []\n",
    "\n",
    "    for hand in hands_board_data:\n",
    "        handid, handnum, dealer, FC1, FC2, FC3, TC1, RC1 = hand\n",
    "\n",
    "        board = {\"Flop 1\": FC1, \"Flop 2\": FC2, \"Flop 3\": FC3, \"Turn\": TC1, \"River\" : RC1}\n",
    "\n",
    "        holes = [ {\"Player_id\": hole[1], \"Player\":hole[2], \"Cards\": [ hole[3], hole[4] ], \"Action\": hole[5], \"Chips\": hole[6]}  for hole in hole_data if hole[0] == handid ]\n",
    "\n",
    "        cards = [ {\"Player_id\": card[1], \"Player\":card[2], \"Stage\": card[3], \"HandRank\": card[4], \"Action\": card[5], \"Chips\": card[6]} for card in cards_data if card[0] == handid]\n",
    "\n",
    "        players = [ {\"Player_id\": p[1], \"Player\":p[2], \"Position\": p[3]} for p in handplayers_data if p[0] == handid ]\n",
    "        \n",
    "        continued = [ {\"Player_id\": cp[2], \"Player\": cp[1]} for cp in continuing_players_data if cp[0] == handid]\n",
    "            \n",
    "        eliminated = [ {\"Player_id\": ep[3], \"Player\": ep[2], \"eliminated_in_hand\": ep[1]} for ep in eliminated_players_data if ep[0] == handid ]\n",
    "\n",
    "        winners = []\n",
    "        for hw in handwinners_data:\n",
    "            if hw[0] == handid:\n",
    "                if winners and winners[0] == hw[1]: #avoid duplicate entries - there are usually two winners or less\n",
    "                    continue\n",
    "                winners = [ {\"Player_id\":hw[1], \"Player\":hw[2], \"Pot\":hw[3], \"HandRank\":hw[4], \"Position\":hw[5]}]\n",
    "   \n",
    "\n",
    "        hand_info = {\n",
    "            'hand_id': handid,\n",
    "            'board': board,\n",
    "            'hole': holes,\n",
    "            'cards': cards,\n",
    "            'dealer': dealer,\n",
    "            'winners': winners,\n",
    "            'players': players,\n",
    "            'continued': continued,\n",
    "            'eliminated': eliminated\n",
    "        }\n",
    "        Hands.append(hand_info)\n",
    "        players = []\n",
    "        cards = []\n",
    "        holes = []\n",
    "        continued = []\n",
    "        eliminated = []\n",
    "    x = hands_collection.insert_many(Hands)"
   ]
  },
  {
   "cell_type": "code",
   "execution_count": null,
   "id": "8d6c336a-651a-43a1-a7c4-7899c4ab7f9e",
   "metadata": {
    "tags": []
   },
   "outputs": [],
   "source": [
    "addHandsData()\n",
    "hands_collection.count_documents({})"
   ]
  },
  {
   "cell_type": "code",
   "execution_count": null,
   "id": "821e2fa7-90c0-422e-a260-b40c8fec0ab6",
   "metadata": {},
   "outputs": [],
   "source": [
    "#close oracle db and mongodb connections\n",
    "connection.close()\n",
    "client.close()"
   ]
  }
 ],
 "metadata": {
  "kernelspec": {
   "display_name": "Python 3 (ipykernel)",
   "language": "python",
   "name": "python3"
  },
  "language_info": {
   "codemirror_mode": {
    "name": "ipython",
    "version": 3
   },
   "file_extension": ".py",
   "mimetype": "text/x-python",
   "name": "python",
   "nbconvert_exporter": "python",
   "pygments_lexer": "ipython3",
   "version": "3.11.5"
  }
 },
 "nbformat": 4,
 "nbformat_minor": 5
}
