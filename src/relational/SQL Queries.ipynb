{
 "cells": [
  {
   "cell_type": "code",
   "execution_count": null,
   "id": "d6d59ff8-7daf-4e03-8a0b-b30a0822535a",
   "metadata": {
    "tags": []
   },
   "outputs": [],
   "source": [
    "!pip install oracledb\n",
    "!pip install line_profiler\n",
    "!pip install memory_profiler"
   ]
  },
  {
   "cell_type": "code",
   "execution_count": 5,
   "id": "0cb5c12c-2161-45a1-8780-604f31c3ffb9",
   "metadata": {
    "tags": []
   },
   "outputs": [],
   "source": [
    "%load_ext memory_profiler\n",
    "%load_ext line_profiler\n",
    "\n",
    "%reload_ext memory_profiler\n",
    "%reload_ext line_profiler"
   ]
  },
  {
   "cell_type": "code",
   "execution_count": null,
   "id": "f22b224a-191d-44fe-a109-2f51218c048f",
   "metadata": {},
   "outputs": [],
   "source": [
    "import oracledb\n",
    "host = '127.0.0.1'\n",
    "port = '1521'\n",
    "sname = 'orclpdb1'\n",
    "\n",
    "username = 'admin'\n",
    "password = 'password'\n",
    "\n",
    "dsn = f\"(DESCRIPTION=(ADDRESS=(PROTOCOL=TCP)(HOST={host})(PORT={port}))(CONNECT_DATA=(SERVICE_NAME={sname})))\"\n",
    "\n",
    "# Establish the connection\n",
    "try:\n",
    "    connection = oracledb.connect(user=username, password=password, dsn=dsn)\n",
    "    cursor = connection.cursor()\n",
    "    print(\"Connection successful!\")\n",
    "except oracledb.DatabaseError as e:\n",
    "    print(\"There was an error connecting to the database:\", e)"
   ]
  },
  {
   "cell_type": "markdown",
   "id": "090631ae-6473-453a-8d26-5f35dc937cd7",
   "metadata": {},
   "source": [
    "# SQL Queries\n",
    "> Once the above cells have been run i.e:\n",
    "*   Open the Oracle Database Connection Section\n",
    "*   Run the Oracle Table Creation Queries Section\n",
    "*   Run the Players Info Creation Cells Section\n",
    "*   Run the Tournaments Info Cells Section\n",
    "*   Run the Parse Analysis and Import Process Section\n",
    "\n",
    "Proceed with running the SQL Queries if needed. However, the queries and estimates have been conducted with tables and charts showing the results."
   ]
  },
  {
   "cell_type": "code",
   "execution_count": 1,
   "id": "555030c0-a5a7-411c-a5d2-2f33c0aba537",
   "metadata": {
    "tags": []
   },
   "outputs": [],
   "source": [
    "import matplotlib.pyplot as plt\n",
    "import numpy as np\n",
    "import pandas as pd\n",
    "\n",
    "def retrieveQueries(query):\n",
    "    connection.execute(query)\n",
    "    result = connection.fetchall()\n",
    "    return result"
   ]
  },
  {
   "cell_type": "markdown",
   "id": "1ed87849-91ed-464c-a16b-19baeb831bdd",
   "metadata": {
    "tags": []
   },
   "source": [
    "#### Group players with a similar style of play together."
   ]
  },
  {
   "cell_type": "code",
   "execution_count": null,
   "id": "693bba65-6fb2-4645-a11f-e75438953a97",
   "metadata": {},
   "outputs": [],
   "source": [
    "q ='''\n",
    "SELECT distinct b.PID,\n",
    "    CASE\n",
    "        WHEN FoldCount >= CallCount AND FoldCount >= RaiseCount AND FoldCount >= newAllinCount THEN 'Passive'\n",
    "        WHEN CallCount >= FoldCount AND CallCount >= RaiseCount AND CallCount >= newAllinCount THEN 'Conservative'\n",
    "        WHEN RaiseCount >= newAllinCount AND RaiseCount >= CallCount AND RaiseCount >= FoldCount THEN 'Assertive'\n",
    "        WHEN newAllinCount >= RaiseCount AND newAllinCount >= CallCount AND newAllinCount >= FoldCount THEN 'Aggressive' -- Default to Aggressive if no other style dominates\n",
    "    END AS PlayerStyle\n",
    "FROM (\n",
    "select a.*, (5*AllinCount) as newAllinCount\n",
    "    FROM (\n",
    "    SELECT PID,\n",
    "       SUM(CASE WHEN ACT = 'FOLD' THEN 1 ELSE 0 END) AS FoldCount,\n",
    "       SUM(CASE WHEN ACT = 'CALL' THEN 1 ELSE 0 END) AS CallCount,\n",
    "       SUM(CASE WHEN ACT = 'CHECK' THEN 1 ELSE 0 END) AS CheckCount,\n",
    "       SUM(CASE WHEN ACT = 'RAISE' THEN 1 ELSE 0 END) AS RaiseCount,\n",
    "       SUM(CASE WHEN AllIn = 1 THEN 1 ELSE 0 END) AS AllinCount\n",
    "    FROM CARDS C\n",
    "    INNER JOIN HANDPLAYERS HP ON C.HPID = HP.HPID group by PID\n",
    "    )a\n",
    "        )b\n",
    "\n",
    "order by PID\n",
    "'''\n",
    "\n",
    "#query execution timing\n",
    "%lprun -f retrieveQueries players_Style = retrieveQueries(q)"
   ]
  },
  {
   "cell_type": "code",
   "execution_count": null,
   "id": "1f3fcb71-211a-4d0e-8b07-867a390e0b85",
   "metadata": {},
   "outputs": [],
   "source": [
    "style_Types =[\"Passive\", \"Conservative\", \"Assertive\", \"Aggressive\"]\n",
    "pCount = 0\n",
    "cCount = 0\n",
    "asCount =0\n",
    "agCount =0\n",
    "\n",
    "for x in players_Style:\n",
    "    if x[1] == \"Passive\":\n",
    "        pCount += 1\n",
    "    elif x[1] == \"Conservative\":\n",
    "        cCount+=1\n",
    "    elif x[1] == \"Assertive\":\n",
    "        asCount+=1\n",
    "    elif x[1] == \"Aggressive\":\n",
    "        agCount+=1\n",
    "\n",
    "style_Count = [pCount,cCount,asCount,agCount]\n",
    "plt.xlabel('Players Style')\n",
    "plt.ylabel('Count')\n",
    "plt.title('Players Group by Style')\n",
    "plt.bar(style_Types, style_Count)\n",
    "plt.show()"
   ]
  },
  {
   "cell_type": "markdown",
   "id": "63011141-07ca-4d8c-94ac-4d2bc3440f72",
   "metadata": {},
   "source": [
    "#### How often do players win in a particular position?"
   ]
  },
  {
   "cell_type": "code",
   "execution_count": null,
   "id": "632f7faf-87e8-4996-82a4-5e7465cda9c1",
   "metadata": {},
   "outputs": [],
   "source": [
    "q = '''\n",
    "SELECT hp.pos, COUNT(*) AS WinsFromPosition\n",
    "FROM HANDWINNERS HW INNER JOIN HANDPLAYERS HP ON HW.HPID = HP.HPID\n",
    "    INNER JOIN (\n",
    "    SELECT * FROM (\n",
    "        SELECT HandID, MAX(POS) AS MaxPosInHand\n",
    "            FROM HANDPLAYERS\n",
    "            GROUP BY HandID\n",
    "    ) mp WHERE MaxPosInHand >= 5 ) a on a.handid = hp.handid\n",
    "GROUP BY HP.POS\n",
    "order by hp.pos\n",
    "'''\n",
    "#query execution timing\n",
    "%lprun -f retrieveQueries positon_wins = retrieveQueries(q)"
   ]
  },
  {
   "cell_type": "code",
   "execution_count": null,
   "id": "62e51a23-e914-4e31-8acd-be6bea842e76",
   "metadata": {},
   "outputs": [],
   "source": [
    "x=[]\n",
    "y=[]\n",
    "total=0\n",
    "\n",
    "for p in positon_wins:\n",
    "    if p[0]==1:\n",
    "        x.append(\"smallblind\")\n",
    "    elif p[0] ==2:\n",
    "        x.append(\"bigblind\")\n",
    "    elif p[0]==8:\n",
    "        x.append(\"dealer\")\n",
    "    else:\n",
    "        x.append(str(p[0]))\n",
    "\n",
    "    y.append(p[1]/1000)\n",
    "    \n",
    "plt.figure(figsize=(10,5))\n",
    "plt.xlabel('Playing Positions')\n",
    "plt.ylabel('Count (scaled) /1000')\n",
    "plt.title('Players Win by Position')\n",
    "plt.bar(x, y)\n",
    "plt.show()"
   ]
  },
  {
   "cell_type": "markdown",
   "id": "68fd62db-6440-4b1f-afe0-34403844333e",
   "metadata": {},
   "source": [
    "#### Top 10 largest pots and the winning cards"
   ]
  },
  {
   "cell_type": "code",
   "execution_count": null,
   "id": "eb11efb1-eeaf-42d0-ada2-718117414093",
   "metadata": {},
   "outputs": [],
   "source": [
    "q = '''\n",
    "SELECT\n",
    "    a.tid, a.TName, a.TLoc, a.TDate,\n",
    "    a.totalpot,\n",
    "    b.pid,b.pname, b.pot,\n",
    "    (b.pot / a.totalpot)*100 AS \"%Share\",\n",
    "    b.pos AS \"TablePos\",\n",
    "    c1.handrank\n",
    "FROM\n",
    "    (SELECT DISTINCT\n",
    "         h.*, t.tid, t.TName, t.TLoc, t.TDate, r.roundnum, g.gamenum\n",
    "     FROM\n",
    "         hands h\n",
    "         INNER JOIN games g ON g.gameid = h.gameid\n",
    "         INNER JOIN rounds r ON g.roundid = r.roundid\n",
    "         INNER JOIN tournaments t ON t.tid = r.tid\n",
    "     ORDER BY h.totalpot DESC\n",
    "     FETCH FIRST 10 ROWS ONLY\n",
    "    ) a\n",
    "INNER JOIN (\n",
    "    SELECT DISTINCT\n",
    "        hw.hpid, hw.pot, hp.pid, hp.handid, hp.pos, p.pname\n",
    "    FROM\n",
    "        handwinners hw\n",
    "        INNER JOIN handplayers hp ON hw.hpid = hp.hpid inner join players p on hp.pid = p.pid\n",
    ")  b ON a.handid = b.handid\n",
    "INNER JOIN (\n",
    "    SELECT\n",
    "        c.*,\n",
    "        ROW_NUMBER() OVER (PARTITION BY HPID ORDER BY CID DESC) AS row_num\n",
    "    FROM\n",
    "        cards c\n",
    ") c1 ON b.hpid = c1.hpid\n",
    "WHERE\n",
    "    c1.row_num = 1\n",
    "ORDER BY\n",
    "    a.totalpot DESC\n",
    "'''\n",
    "\n",
    "#query execution timing\n",
    "%lprun -f retrieveQueries largest_pots = retrieveQueries(q)"
   ]
  },
  {
   "cell_type": "code",
   "execution_count": null,
   "id": "83876fd1-8ebd-44cc-bea1-f78e23f914e6",
   "metadata": {},
   "outputs": [],
   "source": [
    "tou=[]\n",
    "payout=[]\n",
    "player=[]\n",
    "wincard=[]\n",
    "tablepos=[]\n",
    "\n",
    "for x in largest_pots:\n",
    "    tou.append(x[1])\n",
    "    payout.append(x[4])\n",
    "    player.append(x[6])\n",
    "    wincard.append(x[10])\n",
    "    tablepos.append(x[9])\n",
    "\n",
    "dict = {'Tournament': tou, 'Payout': payout, 'Winner': player, 'WinTablePos': tablepos,'Winning Card': wincard}\n",
    "df = pd.DataFrame(dict)\n",
    "df1 = df.style.set_properties(**{'text-align': 'center'}).set_caption('<h2 style=\"font-weight: bold;\">Top 10 Pot and Winning Card</h2>')\n",
    "display(df1)"
   ]
  },
  {
   "cell_type": "markdown",
   "id": "7b67c56d-0736-4d97-9c32-871f8b2757a5",
   "metadata": {},
   "source": [
    "#### Top 9 winning card combinations by percent used"
   ]
  },
  {
   "cell_type": "code",
   "execution_count": null,
   "id": "caf79d10-7346-48f0-ba97-4ff44eb15e84",
   "metadata": {},
   "outputs": [],
   "source": [
    "q='''\n",
    "SELECT HANDRANK,\n",
    "       ROUND((COUNT(*) / (SELECT COUNT(*) FROM CARDS INNER JOIN HANDWINNERS ON CARDS.HPID = HANDWINNERS.HPID)) * 100, 2) AS PercentageUsed\n",
    "FROM CARDS\n",
    "INNER JOIN HANDWINNERS ON CARDS.HPID = HANDWINNERS.HPID\n",
    "GROUP BY HANDRANK\n",
    "ORDER BY COUNT(*) DESC\n",
    "FETCH FIRST 9 ROWS ONLY\n",
    "'''\n",
    "#query execution timing\n",
    "%lprun -f retrieveQueries winning_card_combo = retrieveQueries(q)"
   ]
  },
  {
   "cell_type": "code",
   "execution_count": null,
   "id": "d43a028f-38ab-4112-92ca-54f05a27656d",
   "metadata": {},
   "outputs": [],
   "source": [
    "x=[]\n",
    "y=[]\n",
    "total=0\n",
    "\n",
    "for p in winning_card_combo:\n",
    "    x.append(p[0])\n",
    "    y.append(p[1])\n",
    "\n",
    "print(x)\n",
    "print(y)\n",
    "\n",
    "# plt.figure(figsize=(8,6))\n",
    "plt.title('Top 9 Winning Card Combinations by % Used')\n",
    "plt.pie(y, labels = x, autopct='%0.001f%%')\n",
    "plt.show()\n",
    "plt.tight_layout()"
   ]
  },
  {
   "cell_type": "markdown",
   "id": "a8f58c61-1365-4029-ae33-26934046f94e",
   "metadata": {},
   "source": [
    "#### All players who played in the Dec 25, 2023 Tournament"
   ]
  },
  {
   "cell_type": "code",
   "execution_count": null,
   "id": "4270fcd9-6310-4463-9928-fd9be61e740c",
   "metadata": {},
   "outputs": [],
   "source": [
    "q = '''\n",
    "SELECT distinct t.tname, p.pname as Names\n",
    "FROM\n",
    "    tournaments t inner join rounds r on t.tid = r.tid\n",
    "    inner join games g on g.roundid = r.roundid\n",
    "    inner join hands h on h.gameid = g.gameid\n",
    "    inner join handplayers hp on hp.handid = h.handid\n",
    "    inner join players p on p.pid = hp.pid\n",
    "WHERE t.tdate = TO_DATE('12-25-2023', 'mm-dd-yyyy')\n",
    "ORDER BY PName\n",
    "FETCH FIRST 10 ROWS ONLY\n",
    "'''\n",
    "#query execution timing\n",
    "%lprun -f retrieveQueries players_in2023 = retrieveQueries(q)"
   ]
  },
  {
   "cell_type": "code",
   "execution_count": null,
   "id": "9e270bfb-6eda-45e5-bf80-36c8e2122172",
   "metadata": {},
   "outputs": [],
   "source": [
    "players=[]\n",
    "tour = []\n",
    "for x in players_in2023:\n",
    "    tour.append(x[0])\n",
    "    players.append(x[1])\n",
    "\n",
    "dict = {'Tournament':tour,'Players': players}\n",
    "df = pd.DataFrame(dict)\n",
    "df1 = df.style.set_properties(**{'text-align': 'center'}).set_caption('<h2 style=\"font-weight: bold;\">Players in Dec 25th 2023 Tournament (First 10)</h2>')\n",
    "display(df1)"
   ]
  },
  {
   "cell_type": "markdown",
   "id": "a5bd32c2-463a-457b-8b28-1f27ae16e8a3",
   "metadata": {},
   "source": [
    "#### Average Hands per Game (overall)"
   ]
  },
  {
   "cell_type": "code",
   "execution_count": null,
   "id": "8b90c5d0-fe03-4bcd-b34e-b4f8bc3dab8c",
   "metadata": {},
   "outputs": [],
   "source": [
    "q = '''\n",
    "SELECT AVG(NumOfHands) AS AverageHandsPerGame\n",
    "FROM (\n",
    "    SELECT COUNT(*) AS NumOfHands\n",
    "    FROM HANDS\n",
    "    INNER JOIN GAMES ON HANDS.GameID = GAMES.GameID\n",
    "    INNER JOIN ROUNDS ON GAMES.RoundID = ROUNDS.RoundID\n",
    "    INNER JOIN TOURNAMENTS ON ROUNDS.TID = TOURNAMENTS.TID\n",
    "    GROUP BY GAMES.GameID, TOURNAMENTS.TID\n",
    ")\n",
    "'''\n",
    "#query execution timing\n",
    "%lprun -f retrieveQueries avg_hands = retrieveQueries(q)"
   ]
  },
  {
   "cell_type": "code",
   "execution_count": null,
   "id": "611af8bd-0aac-42c9-8d31-37b0e25f65c8",
   "metadata": {},
   "outputs": [],
   "source": [
    "for x in avg_hands:\n",
    "    print(\"Average Hands Per Game: \", format(x[0]/100, \"0.01%\"))"
   ]
  },
  {
   "cell_type": "markdown",
   "id": "e10b0d5a-60ce-4609-bcdb-3c3e9b08ff89",
   "metadata": {},
   "source": [
    "#### Average Hands per Game per Tournaments"
   ]
  },
  {
   "cell_type": "code",
   "execution_count": null,
   "id": "7f13b1f1-7654-4a76-b485-9ba4f49d48be",
   "metadata": {
    "tags": []
   },
   "outputs": [],
   "source": [
    "q = '''\n",
    "SELECT tname, AVG(NumOfHands) AS AverageHandsPerGame\n",
    "FROM (\n",
    "    SELECT t.tname,g.gameid,COUNT(*) AS NumOfHands\n",
    "    FROM HANDS h\n",
    "    INNER JOIN GAMES g ON h.GameID = g.GameID\n",
    "    INNER JOIN ROUNDS r ON g.RoundID = r.RoundID\n",
    "    INNER JOIN TOURNAMENTS t ON r.TID = t.TID\n",
    "    GROUP BY g.GameID, t.tname\n",
    "    order by g.gameid\n",
    ")\n",
    "group by tname\n",
    "'''\n",
    "#query execution timing\n",
    "%lprun -f retrieveQueries avg_hands_perTourn = retrieveQueries(q)"
   ]
  },
  {
   "cell_type": "code",
   "execution_count": null,
   "id": "fd938e1b-c51e-491b-b5c6-89debcfa7f21",
   "metadata": {},
   "outputs": [],
   "source": [
    "tou=[]\n",
    "avghand=[]\n",
    "\n",
    "for x in avg_hands_perTourn:\n",
    "    tou.append(x[0])\n",
    "    avghand.append(format(x[1]/100, \"0.01%\"))\n",
    "\n",
    "result = {'Tournament': tou, 'Avg Hand per Game': avghand}\n",
    "df = pd.DataFrame(result)\n",
    "df1 = df.style.set_properties(**{'text-align': 'center'}).set_caption('<h2 style=\"font-weight: bold;\">Avg Hands per Game per Tournament</h2>')\n",
    "display(df1)"
   ]
  },
  {
   "cell_type": "code",
   "execution_count": null,
   "id": "3fda6ede-9e5d-4c3d-8951-66ef0975a0ec",
   "metadata": {},
   "outputs": [],
   "source": [
    "x=[]\n",
    "y=[]\n",
    "\n",
    "for p in avg_hands_perTourn:\n",
    "    x.append(p[0])\n",
    "    y.append(p[1])\n",
    "\n",
    "plt.title('Avg Hands per Game per Tournament')\n",
    "plt.pie(y, labels = x, autopct='%0.001f%%')\n",
    "plt.show()"
   ]
  },
  {
   "cell_type": "markdown",
   "id": "7542dfc2-f95c-4528-94e4-ebe9dbcee466",
   "metadata": {},
   "source": [
    "#### What player(s) won the longest game(s) (the most hands)?"
   ]
  },
  {
   "cell_type": "code",
   "execution_count": null,
   "id": "8fd60cfa-1db3-4696-bf25-52c615054d1f",
   "metadata": {},
   "outputs": [],
   "source": [
    "q='''\n",
    "SELECT HP.PID,PNAME, COUNT(*) AS NumOfWins\n",
    "FROM HANDWINNERS HW INNER JOIN HANDPLAYERS HP ON HW.HPID = HP.HPID INNER JOIN PLAYERS P ON P.PID = HP.PID\n",
    "GROUP BY HP.PID,PNAME\n",
    "ORDER BY NumOfWins DESC\n",
    "FETCH FIRST 10 ROWS ONLY\n",
    "'''\n",
    "#query execution timing\n",
    "%lprun -f retrieveQueries most_hands = retrieveQueries(q)"
   ]
  },
  {
   "cell_type": "code",
   "execution_count": null,
   "id": "fbe6440d-be23-4af0-8ac6-75b8a56706e2",
   "metadata": {},
   "outputs": [],
   "source": [
    "player=[]\n",
    "numwins=[]\n",
    "\n",
    "\n",
    "for x in most_hands:\n",
    "    player.append(x[1])\n",
    "    numwins.append(x[2])\n",
    "\n",
    "result = {'Player': player, 'NumOfWins': numwins}\n",
    "df = pd.DataFrame(result)\n",
    "df1 = df.style.set_properties(**{'text-align': 'center'}).set_caption('<h2 style=\"font-weight: bold;\">Top 10 Players Who Won the Most hands</h2>')\n",
    "display(df1)"
   ]
  },
  {
   "cell_type": "markdown",
   "id": "bc7cc66e-18e6-4205-bc44-c359753f10fe",
   "metadata": {},
   "source": [
    "#### Player who won the most money in 2023"
   ]
  },
  {
   "cell_type": "code",
   "execution_count": null,
   "id": "4673afe7-976d-46a0-96f2-a994e8fbff40",
   "metadata": {},
   "outputs": [],
   "source": [
    "q = '''\n",
    "Select distinct mp.tid,mp.tname, p.pname,  tw.payout\n",
    "FROM PLAYERs p inner join tournamentswinners tw on tw.pid = p.pid inner join(\n",
    "    SELECT DISTINCT t.TID, t.TNAME, MAX(tw.payout)as MaxPayout\n",
    "    FROM tournaments t inner join tournamentswinners tw on t.tid = tw.tid\n",
    "    WHERE EXTRACT(YEAR FROM t.tdate) = 2023\n",
    "    GROUP BY t.TID, t.TNAME\n",
    "    ORDER BY T.TID\n",
    ")  mp on mp.tid = tw.tid\n",
    "where mp.MaxPayout = tw.payout\n",
    "order by mp.tid\n",
    "\n",
    "'''\n",
    "#query execution timing\n",
    "%lprun -f retrieveQueries most_money = retrieveQueries(q)"
   ]
  },
  {
   "cell_type": "code",
   "execution_count": null,
   "id": "a037841f-cb41-4c0a-8fd0-8991295245c7",
   "metadata": {},
   "outputs": [],
   "source": [
    "tourn=[]\n",
    "player=[]\n",
    "payout=[]\n",
    "\n",
    "for x in most_money:\n",
    "    tourn.append(x[1])\n",
    "    player.append(x[2])\n",
    "    payout.append(x[3])\n",
    "\n",
    "result = {'Tournament': tourn, 'Player': player, 'Payout': payout}\n",
    "df = pd.DataFrame(result)\n",
    "df1 = df.style.set_properties(**{'text-align': 'center'}).set_caption('<h2 style=\"font-weight: bold;\">Players Who Won the Most Money in 2023</h2>')\n",
    "display(df1)"
   ]
  },
  {
   "cell_type": "markdown",
   "id": "741bca59-b5b5-4fa9-8203-b4f6fdc999fc",
   "metadata": {},
   "source": [
    "#### Top 10 players who made the most “Final Tables” in a tournament?"
   ]
  },
  {
   "cell_type": "code",
   "execution_count": null,
   "id": "af90af0b-642a-4619-89e7-e4eb44537c2c",
   "metadata": {},
   "outputs": [],
   "source": [
    "q = '''\n",
    "SELECT p.pname, COUNT(*) AS CountFinalTable\n",
    "FROM tournaments t\n",
    "INNER JOIN rounds r ON t.tid = r.tid\n",
    "INNER JOIN games g ON r.roundid = g.roundid\n",
    "INNER JOIN hands h ON g.gameid = h.gameid\n",
    "INNER JOIN handplayers hp ON h.handid = hp.handid\n",
    "INNER JOIN players p on hp.pid = p.pid\n",
    "INNER JOIN (\n",
    "    SELECT tid, MAX(roundnum) AS MaxRound\n",
    "    FROM rounds\n",
    "    GROUP BY tid\n",
    ") mRN ON t.tid = mRN.tid\n",
    "WHERE r.roundnum = mRN.MaxRound\n",
    "GROUP BY p.pname\n",
    "order by CountFinalTable desc\n",
    "FETCH FIRST 10 ROWS ONLY\n",
    "'''\n",
    "#query execution timing\n",
    "%lprun -f retrieveQueries final_table = retrieveQueries(q)"
   ]
  },
  {
   "cell_type": "code",
   "execution_count": null,
   "id": "31da902c-3383-4e0c-ae06-3288c36729b2",
   "metadata": {},
   "outputs": [],
   "source": [
    "player=[]\n",
    "count=[]\n",
    "\n",
    "for x in final_table:\n",
    "    player.append(x[0])\n",
    "    count.append(x[1])\n",
    "\n",
    "result = {'Player': player, 'Total Final Tables Reached': count }\n",
    "df = pd.DataFrame(result)\n",
    "df1 = df.style.set_properties(**{'text-align': 'center'}).set_caption('<h2 style=\"font-weight: bold;\">Top 10 Players Making the Final Table</h2>')\n",
    "display(df1)"
   ]
  },
  {
   "cell_type": "markdown",
   "id": "39c9736a-f844-46ce-bb92-fd7e104da6d7",
   "metadata": {},
   "source": [
    "#### Identify the combinations/cards that win the most. Per player?"
   ]
  },
  {
   "cell_type": "code",
   "execution_count": null,
   "id": "439af257-f5ca-4614-aea9-74f6cd134d37",
   "metadata": {},
   "outputs": [],
   "source": [
    "q='''\n",
    "SELECT a.pid,\n",
    "       a.pname,\n",
    "       a.handrank,\n",
    "       a.RankCount\n",
    "FROM (\n",
    "    SELECT\n",
    "        p.pid,\n",
    "        p.pname,\n",
    "        c.handrank,\n",
    "        COUNT(*) AS RankCount,\n",
    "        ROW_NUMBER() OVER(PARTITION BY p.pid ORDER BY COUNT(*) DESC) AS RN\n",
    "    FROM\n",
    "        cards c\n",
    "    INNER JOIN\n",
    "        handplayers hp ON c.hpid = hp.hpid\n",
    "    INNER JOIN\n",
    "        players p ON hp.pid = p.pid\n",
    "    INNER JOIN\n",
    "        handwinners hw ON hp.hpid = hw.hpid\n",
    "    GROUP BY\n",
    "        p.pid,\n",
    "        p.pname,\n",
    "        c.handrank\n",
    ") a\n",
    "WHERE a.RN = 1\n",
    "order by a.rankcount desc\n",
    "fetch first 10 rows only\n",
    "\n",
    "'''\n",
    "#query execution timing\n",
    "%lprun -f retrieveQueries combocards_wins_byplayers = retrieveQueries(q)"
   ]
  },
  {
   "cell_type": "code",
   "execution_count": null,
   "id": "25b2b589-a4a2-458d-a847-bccda0ce1eea",
   "metadata": {},
   "outputs": [],
   "source": [
    "player=[]\n",
    "handrank=[]\n",
    "count=[]\n",
    "\n",
    "for x in combocards_wins_byplayers:\n",
    "    player.append(x[1])\n",
    "    handrank.append(x[2])\n",
    "    count.append(x[3])\n",
    "\n",
    "result = {'Player': player, 'Hand Rank': handrank, 'Rank Count': count }\n",
    "df = pd.DataFrame(result)\n",
    "df1 = df.style.set_properties(**{'text-align': 'center'}).set_caption('<h2 style=\"font-weight: bold;\">Combination Cards Count Used by Players</h2>')\n",
    "display(df1)"
   ]
  },
  {
   "cell_type": "markdown",
   "id": "d2ccc9fc-fd08-44e6-a13b-9988f3f2638c",
   "metadata": {},
   "source": [
    "#### Identify the combinations/cards that win the most"
   ]
  },
  {
   "cell_type": "code",
   "execution_count": null,
   "id": "94d52332-9970-4f3b-908a-e4283141a141",
   "metadata": {},
   "outputs": [],
   "source": [
    "q = '''\n",
    "SELECT\n",
    "        c.handrank,\n",
    "        COUNT(*) AS RankCount\n",
    "    FROM\n",
    "        cards c\n",
    "    INNER JOIN\n",
    "        handplayers hp ON c.hpid = hp.hpid\n",
    "    INNER JOIN\n",
    "        players p ON hp.pid = p.pid\n",
    "    INNER JOIN\n",
    "        handwinners hw ON hp.hpid = hw.hpid\n",
    "    GROUP BY\n",
    "        c.handrank\n",
    "order by RankCount desc\n",
    "'''\n",
    "#query execution timing\n",
    "%lprun -f retrieveQueries combocards_wins = retrieveQueries(q)"
   ]
  },
  {
   "cell_type": "code",
   "execution_count": null,
   "id": "3b9094c4-6a11-4768-8be1-0e29f8e41f0b",
   "metadata": {},
   "outputs": [],
   "source": [
    "x=[]\n",
    "y=[]\n",
    "\n",
    "for p in combocards_wins:\n",
    "    x.append(p[0])\n",
    "    y.append(p[1]/100)\n",
    "\n",
    "plt.xlabel('Hand Rank')\n",
    "plt.ylabel('Count(Wins) / 100 ')\n",
    "plt.title('Combination Card by Total Winnings')\n",
    "plt.bar(x, y)\n",
    "plt.xticks(range(len(x)), x, rotation='vertical')\n",
    "\n",
    "plt.show()"
   ]
  },
  {
   "cell_type": "markdown",
   "id": "9d8404b3-ca9c-45a2-9289-046c61bfe82b",
   "metadata": {},
   "source": [
    "#### What country has the best players? By tournament Winnings"
   ]
  },
  {
   "cell_type": "code",
   "execution_count": null,
   "id": "bd5153bc-c461-4512-ad37-fecfe232a313",
   "metadata": {},
   "outputs": [],
   "source": [
    "q='''\n",
    "SELECT PCountry AS Country,\n",
    "       COUNT(*) AS WinnerCount\n",
    "FROM TOURNAMENTS T\n",
    "JOIN TOURNAMENTSWINNERS TW ON T.TID = TW.TID\n",
    "JOIN PLAYERS P ON TW.PID = P.PID\n",
    "GROUP BY PCountry\n",
    "ORDER BY WinnerCount DESC\n",
    "FETCH FIRST 10 ROWS ONLY\n",
    "'''\n",
    "#query execution timing\n",
    "%lprun -f retrieveQueries best_players = retrieveQueries(q)"
   ]
  },
  {
   "cell_type": "code",
   "execution_count": null,
   "id": "28c99022-b929-4fb6-a9d2-c39e3533cfbd",
   "metadata": {},
   "outputs": [],
   "source": [
    "x=[]\n",
    "y=[]\n",
    "\n",
    "for p in best_players:\n",
    "    x.append(p[0])\n",
    "    y.append(p[1])\n",
    "\n",
    "plt.xlabel('Country')\n",
    "plt.ylabel('Count(Wins) ')\n",
    "plt.title('Best Players by Country (Tournament Winnings)')\n",
    "plt.bar(x, y)\n",
    "plt.xticks(range(len(x)), x, rotation='vertical')\n",
    "\n",
    "plt.show()"
   ]
  },
  {
   "cell_type": "code",
   "execution_count": null,
   "id": "1ac3d055-710b-4402-9e64-0083dfcae9f8",
   "metadata": {},
   "outputs": [],
   "source": [
    "connection.close()"
   ]
  }
 ],
 "metadata": {
  "kernelspec": {
   "display_name": "Python 3 (ipykernel)",
   "language": "python",
   "name": "python3"
  },
  "language_info": {
   "codemirror_mode": {
    "name": "ipython",
    "version": 3
   },
   "file_extension": ".py",
   "mimetype": "text/x-python",
   "name": "python",
   "nbconvert_exporter": "python",
   "pygments_lexer": "ipython3",
   "version": "3.11.5"
  }
 },
 "nbformat": 4,
 "nbformat_minor": 5
}
